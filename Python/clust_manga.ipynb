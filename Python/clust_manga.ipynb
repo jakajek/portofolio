{
 "cells": [
  {
   "cell_type": "markdown",
   "id": "600c70a5-1162-4389-b905-c89f6825df7c",
   "metadata": {},
   "source": [
    "# *K-Means* Clustering For 1000 Manga List from myanimelist.net"
   ]
  },
  {
   "cell_type": "markdown",
   "id": "88134a92-60f5-4456-850b-d667e752cef5",
   "metadata": {},
   "source": [
    "#### Authors: @jakajek\n",
    "#### https://github.com/jakajek"
   ]
  },
  {
   "cell_type": "markdown",
   "id": "e8dcdbd1-78b3-4a3c-a934-e85ce74d5c80",
   "metadata": {},
   "source": [
    "## Import library\n",
    "In this section we will import library tools like `pandas`, `matplotlib`, and `sklearn`. From `sklearn` we will use `cluster` for `KMeans`, `preprocessing` for `StandardScaler` and `metrics` for `silhouette_score`"
   ]
  },
  {
   "cell_type": "code",
   "execution_count": 1,
   "id": "64dae640-f724-4277-844e-dc97eebff176",
   "metadata": {},
   "outputs": [],
   "source": [
    "import pandas as pd\n",
    "import matplotlib.pyplot as plt\n",
    "from sklearn.cluster import KMeans\n",
    "from sklearn.preprocessing import StandardScaler\n",
    "from sklearn.metrics import silhouette_score"
   ]
  },
  {
   "cell_type": "markdown",
   "id": "bf23e480-8697-4c1e-8911-fe2065ed9847",
   "metadata": {},
   "source": [
    "## Data Exploration\n",
    "Next we use data from https://www.kaggle.com/astronautelvis/top-1000-ranked-mangas-by-myanimelist"
   ]
  },
  {
   "cell_type": "markdown",
   "id": "84813886-11aa-499a-b8c3-d5df974f074a",
   "metadata": {},
   "source": [
    "**Why I choose this data for *K-Means* Clustering?** as a manga readers when i visit https://myanimelist.net/topmanga.php it's hard for me to choose what is the next manga to read."
   ]
  },
  {
   "cell_type": "markdown",
   "id": "1fb13948-1535-4a57-b4d8-c53c0b4f2002",
   "metadata": {},
   "source": [
    "**But you can start from 1st rank and you can choose by score isn't?** to be honest it's not simple like that my brother, if we look closely the score and the ranks it seems sus because the numbers of members. Mangas like *JoJo no Kimyou na Bouken Part 7: Steel Ball Run* is 2nd at the rank and have 9.23 score but it only have 160,780 members, then it's drives us to early conclusions that rank in https://myanimelist.net/topmanga.php can manipulated by *hardcore* fans."
   ]
  },
  {
   "cell_type": "markdown",
   "id": "c1eea048-a7ab-4cf0-9cd4-1bcbdc4a2353",
   "metadata": {},
   "source": [
    "**Why choose *K-Means* clustering methods?** *K-Means* is one simple clustering methods to separate data by specific features. In this data, we can choose `Scored_by`, `Favorites` and `Score` as features to use (continuous var is a must btw)."
   ]
  },
  {
   "cell_type": "markdown",
   "id": "a8ecdf1b-481c-4ca3-8136-496b55d902e1",
   "metadata": {},
   "source": [
    "Next we load the data to see whats looks like this data"
   ]
  },
  {
   "cell_type": "code",
   "execution_count": 2,
   "id": "fa8d8821-bf9a-4715-8d83-dc2540ef278e",
   "metadata": {},
   "outputs": [
    {
     "data": {
      "text/html": [
       "<div>\n",
       "<style scoped>\n",
       "    .dataframe tbody tr th:only-of-type {\n",
       "        vertical-align: middle;\n",
       "    }\n",
       "\n",
       "    .dataframe tbody tr th {\n",
       "        vertical-align: top;\n",
       "    }\n",
       "\n",
       "    .dataframe thead th {\n",
       "        text-align: right;\n",
       "    }\n",
       "</style>\n",
       "<table border=\"1\" class=\"dataframe\">\n",
       "  <thead>\n",
       "    <tr style=\"text-align: right;\">\n",
       "      <th></th>\n",
       "      <th>Title</th>\n",
       "      <th>Title_Synonym</th>\n",
       "      <th>Title_Japanese</th>\n",
       "      <th>Status</th>\n",
       "      <th>Volumns</th>\n",
       "      <th>Chapters</th>\n",
       "      <th>Publishing</th>\n",
       "      <th>Rank</th>\n",
       "      <th>Score</th>\n",
       "      <th>Scored_by</th>\n",
       "      <th>Popularity</th>\n",
       "      <th>Memebers</th>\n",
       "      <th>Favorites</th>\n",
       "      <th>Synopsis</th>\n",
       "      <th>Publish_period</th>\n",
       "      <th>Genre</th>\n",
       "    </tr>\n",
       "  </thead>\n",
       "  <tbody>\n",
       "    <tr>\n",
       "      <th>0</th>\n",
       "      <td>Berserk</td>\n",
       "      <td>Berserk</td>\n",
       "      <td>ベルセルク</td>\n",
       "      <td>Publishing</td>\n",
       "      <td>unkown</td>\n",
       "      <td>unkown</td>\n",
       "      <td>True</td>\n",
       "      <td>1</td>\n",
       "      <td>9.39</td>\n",
       "      <td>201756</td>\n",
       "      <td>2</td>\n",
       "      <td>427894</td>\n",
       "      <td>80308</td>\n",
       "      <td>Guts, a former mercenary now known as the \"Bla...</td>\n",
       "      <td>Aug  25, 1989 to present</td>\n",
       "      <td>'Action', 'Adventure', 'Demons', 'Drama', 'Fan...</td>\n",
       "    </tr>\n",
       "    <tr>\n",
       "      <th>1</th>\n",
       "      <td>JoJo no Kimyou na Bouken Part 7: Steel Ball Run</td>\n",
       "      <td>unkown</td>\n",
       "      <td>ジョジョの奇妙な冒険 Part7 STEEL BALL RUN</td>\n",
       "      <td>Finished</td>\n",
       "      <td>24</td>\n",
       "      <td>96</td>\n",
       "      <td>False</td>\n",
       "      <td>2</td>\n",
       "      <td>9.23</td>\n",
       "      <td>94427</td>\n",
       "      <td>29</td>\n",
       "      <td>160782</td>\n",
       "      <td>27459</td>\n",
       "      <td>In the American Old West, the world's greatest...</td>\n",
       "      <td>Jan  19, 2004 to Apr  19, 2011</td>\n",
       "      <td>'Action', 'Adventure', 'Mystery', 'Historical'...</td>\n",
       "    </tr>\n",
       "    <tr>\n",
       "      <th>2</th>\n",
       "      <td>One Piece</td>\n",
       "      <td>One Piece</td>\n",
       "      <td>ONE PIECE</td>\n",
       "      <td>Publishing</td>\n",
       "      <td>unkown</td>\n",
       "      <td>unkown</td>\n",
       "      <td>True</td>\n",
       "      <td>3</td>\n",
       "      <td>9.15</td>\n",
       "      <td>249936</td>\n",
       "      <td>3</td>\n",
       "      <td>410522</td>\n",
       "      <td>82310</td>\n",
       "      <td>Gol D. Roger, a man referred to as the \"Pirate...</td>\n",
       "      <td>Jul  22, 1997 to present</td>\n",
       "      <td>'Action', 'Adventure', 'Comedy', 'Fantasy', 'S...</td>\n",
       "    </tr>\n",
       "    <tr>\n",
       "      <th>3</th>\n",
       "      <td>Vagabond</td>\n",
       "      <td>Vagabond</td>\n",
       "      <td>バガボンド</td>\n",
       "      <td>On Hiatus</td>\n",
       "      <td>37</td>\n",
       "      <td>327</td>\n",
       "      <td>False</td>\n",
       "      <td>4</td>\n",
       "      <td>9.13</td>\n",
       "      <td>72613</td>\n",
       "      <td>19</td>\n",
       "      <td>211345</td>\n",
       "      <td>21596</td>\n",
       "      <td>In 16th century Japan, Shinmen Takezou is a wi...</td>\n",
       "      <td>Sep  3, 1998 to May  21, 2015</td>\n",
       "      <td>'Action', 'Adventure', 'Drama', 'Historical', ...</td>\n",
       "    </tr>\n",
       "    <tr>\n",
       "      <th>4</th>\n",
       "      <td>Monster</td>\n",
       "      <td>Monster</td>\n",
       "      <td>MONSTER</td>\n",
       "      <td>Finished</td>\n",
       "      <td>18</td>\n",
       "      <td>162</td>\n",
       "      <td>False</td>\n",
       "      <td>5</td>\n",
       "      <td>9.10</td>\n",
       "      <td>57801</td>\n",
       "      <td>33</td>\n",
       "      <td>148764</td>\n",
       "      <td>13049</td>\n",
       "      <td>Kenzou Tenma, a renowned Japanese neurosurgeon...</td>\n",
       "      <td>Dec  5, 1994 to Dec  20, 2001</td>\n",
       "      <td>'Mystery', 'Drama', 'Psychological', 'Seinen'</td>\n",
       "    </tr>\n",
       "  </tbody>\n",
       "</table>\n",
       "</div>"
      ],
      "text/plain": [
       "                                             Title Title_Synonym  \\\n",
       "0                                          Berserk       Berserk   \n",
       "1  JoJo no Kimyou na Bouken Part 7: Steel Ball Run        unkown   \n",
       "2                                        One Piece     One Piece   \n",
       "3                                         Vagabond      Vagabond   \n",
       "4                                          Monster       Monster   \n",
       "\n",
       "                    Title_Japanese      Status Volumns Chapters  Publishing  \\\n",
       "0                            ベルセルク  Publishing  unkown   unkown        True   \n",
       "1  ジョジョの奇妙な冒険 Part7 STEEL BALL RUN    Finished      24       96       False   \n",
       "2                        ONE PIECE  Publishing  unkown   unkown        True   \n",
       "3                            バガボンド   On Hiatus      37      327       False   \n",
       "4                          MONSTER    Finished      18      162       False   \n",
       "\n",
       "   Rank  Score  Scored_by  Popularity  Memebers  Favorites  \\\n",
       "0     1   9.39     201756           2    427894      80308   \n",
       "1     2   9.23      94427          29    160782      27459   \n",
       "2     3   9.15     249936           3    410522      82310   \n",
       "3     4   9.13      72613          19    211345      21596   \n",
       "4     5   9.10      57801          33    148764      13049   \n",
       "\n",
       "                                            Synopsis  \\\n",
       "0  Guts, a former mercenary now known as the \"Bla...   \n",
       "1  In the American Old West, the world's greatest...   \n",
       "2  Gol D. Roger, a man referred to as the \"Pirate...   \n",
       "3  In 16th century Japan, Shinmen Takezou is a wi...   \n",
       "4  Kenzou Tenma, a renowned Japanese neurosurgeon...   \n",
       "\n",
       "                   Publish_period  \\\n",
       "0        Aug  25, 1989 to present   \n",
       "1  Jan  19, 2004 to Apr  19, 2011   \n",
       "2        Jul  22, 1997 to present   \n",
       "3   Sep  3, 1998 to May  21, 2015   \n",
       "4   Dec  5, 1994 to Dec  20, 2001   \n",
       "\n",
       "                                               Genre  \n",
       "0  'Action', 'Adventure', 'Demons', 'Drama', 'Fan...  \n",
       "1  'Action', 'Adventure', 'Mystery', 'Historical'...  \n",
       "2  'Action', 'Adventure', 'Comedy', 'Fantasy', 'S...  \n",
       "3  'Action', 'Adventure', 'Drama', 'Historical', ...  \n",
       "4      'Mystery', 'Drama', 'Psychological', 'Seinen'  "
      ]
     },
     "execution_count": 2,
     "metadata": {},
     "output_type": "execute_result"
    }
   ],
   "source": [
    "data_manga = pd.read_csv(\"https://raw.githubusercontent.com/jakajek/current-projekt/main/data/top_1000_manga.csv\", index_col = 0)\n",
    "data_manga.head()"
   ]
  },
  {
   "cell_type": "markdown",
   "id": "9cb39045-e195-4e71-a846-2af43f50fbdd",
   "metadata": {},
   "source": [
    "### Data Cleaning"
   ]
  },
  {
   "cell_type": "markdown",
   "id": "e211c50c-fdd4-44f3-8ea5-827ca34ddce9",
   "metadata": {},
   "source": [
    "As we see the data contains information what manga is Publishing, Finished, or On Hiatus in `Status`. Because my concern is only on manga with status **Publishing** and **Finished**, we must filter the `Status` first. Next task is we only use selected features and drop others to create new data frame for the analysis"
   ]
  },
  {
   "cell_type": "code",
   "execution_count": 3,
   "id": "445df91b-2eb5-44b2-acd0-058a3e06d190",
   "metadata": {},
   "outputs": [
    {
     "data": {
      "text/html": [
       "<div>\n",
       "<style scoped>\n",
       "    .dataframe tbody tr th:only-of-type {\n",
       "        vertical-align: middle;\n",
       "    }\n",
       "\n",
       "    .dataframe tbody tr th {\n",
       "        vertical-align: top;\n",
       "    }\n",
       "\n",
       "    .dataframe thead th {\n",
       "        text-align: right;\n",
       "    }\n",
       "</style>\n",
       "<table border=\"1\" class=\"dataframe\">\n",
       "  <thead>\n",
       "    <tr style=\"text-align: right;\">\n",
       "      <th></th>\n",
       "      <th>Title</th>\n",
       "      <th>Rank</th>\n",
       "      <th>Score</th>\n",
       "      <th>Scored_by</th>\n",
       "      <th>Favorites</th>\n",
       "    </tr>\n",
       "  </thead>\n",
       "  <tbody>\n",
       "    <tr>\n",
       "      <th>0</th>\n",
       "      <td>Berserk</td>\n",
       "      <td>1</td>\n",
       "      <td>9.39</td>\n",
       "      <td>201756</td>\n",
       "      <td>80308</td>\n",
       "    </tr>\n",
       "    <tr>\n",
       "      <th>1</th>\n",
       "      <td>JoJo no Kimyou na Bouken Part 7: Steel Ball Run</td>\n",
       "      <td>2</td>\n",
       "      <td>9.23</td>\n",
       "      <td>94427</td>\n",
       "      <td>27459</td>\n",
       "    </tr>\n",
       "    <tr>\n",
       "      <th>2</th>\n",
       "      <td>One Piece</td>\n",
       "      <td>3</td>\n",
       "      <td>9.15</td>\n",
       "      <td>249936</td>\n",
       "      <td>82310</td>\n",
       "    </tr>\n",
       "    <tr>\n",
       "      <th>4</th>\n",
       "      <td>Monster</td>\n",
       "      <td>5</td>\n",
       "      <td>9.10</td>\n",
       "      <td>57801</td>\n",
       "      <td>13049</td>\n",
       "    </tr>\n",
       "    <tr>\n",
       "      <th>5</th>\n",
       "      <td>Fullmetal Alchemist</td>\n",
       "      <td>6</td>\n",
       "      <td>9.08</td>\n",
       "      <td>130375</td>\n",
       "      <td>26753</td>\n",
       "    </tr>\n",
       "  </tbody>\n",
       "</table>\n",
       "</div>"
      ],
      "text/plain": [
       "                                             Title  Rank  Score  Scored_by  \\\n",
       "0                                          Berserk     1   9.39     201756   \n",
       "1  JoJo no Kimyou na Bouken Part 7: Steel Ball Run     2   9.23      94427   \n",
       "2                                        One Piece     3   9.15     249936   \n",
       "4                                          Monster     5   9.10      57801   \n",
       "5                              Fullmetal Alchemist     6   9.08     130375   \n",
       "\n",
       "   Favorites  \n",
       "0      80308  \n",
       "1      27459  \n",
       "2      82310  \n",
       "4      13049  \n",
       "5      26753  "
      ]
     },
     "execution_count": 3,
     "metadata": {},
     "output_type": "execute_result"
    }
   ],
   "source": [
    "use_col = data_manga['Status'].isin(['Publishing','Finished'])\n",
    "del_col = ['Title_Synonym', 'Title_Japanese', 'Status','Chapters', 'Volumns', 'Publishing', 'Memebers', 'Synopsis', 'Publish_period', 'Genre','Popularity']\n",
    "df_manga = data_manga[use_col].drop(columns = del_col)\n",
    "df_manga.head()"
   ]
  },
  {
   "cell_type": "markdown",
   "id": "908eed49-ba44-4c30-bca3-38ddf4511a9c",
   "metadata": {},
   "source": [
    "Because we filter `Status` only on **Publishing** and **Finished** mangas it will impact to the length of the data"
   ]
  },
  {
   "cell_type": "code",
   "execution_count": 4,
   "id": "41d5e121-a1a0-40dd-a5e1-82765be6df0a",
   "metadata": {},
   "outputs": [
    {
     "name": "stdout",
     "output_type": "stream",
     "text": [
      "The difference length of the data is:  10\n"
     ]
    }
   ],
   "source": [
    "before = len(data_manga)\n",
    "after = len(df_manga)\n",
    "difference = before - after\n",
    "print(\"The difference length of the data is: \", difference)"
   ]
  },
  {
   "cell_type": "markdown",
   "id": "61de15e6-1bae-43ce-941f-f83c843f2e57",
   "metadata": {},
   "source": [
    "Before we jump to next step, we must check the duplicate data first. We choos `Tittle` as features to check the dupulicate data"
   ]
  },
  {
   "cell_type": "code",
   "execution_count": 5,
   "id": "860c5d65-2935-4d46-8021-0ecd34bcc4d1",
   "metadata": {},
   "outputs": [
    {
     "data": {
      "text/plain": [
       "45"
      ]
     },
     "execution_count": 5,
     "metadata": {},
     "output_type": "execute_result"
    }
   ],
   "source": [
    "df_manga['is_duplicated'] = df_manga.duplicated(subset=['Title'])\n",
    "df_manga['is_duplicated'].sum()"
   ]
  },
  {
   "cell_type": "markdown",
   "id": "c0acbbea-fe70-4f04-9843-380b275ddbcf",
   "metadata": {},
   "source": [
    "Because it's have duplicate title next task is drop the duplicate data and only keep ones. After that we check the length of our data frame"
   ]
  },
  {
   "cell_type": "code",
   "execution_count": 6,
   "id": "1ee68243-de04-4396-8b71-7680e8a5e4ec",
   "metadata": {},
   "outputs": [
    {
     "data": {
      "text/plain": [
       "946"
      ]
     },
     "execution_count": 6,
     "metadata": {},
     "output_type": "execute_result"
    }
   ],
   "source": [
    "df_manga = df_manga.drop_duplicates(subset=['Title'])\n",
    "len(df_manga)"
   ]
  },
  {
   "cell_type": "markdown",
   "id": "b92b35b4-7c17-446e-9ae3-50244be4da5e",
   "metadata": {},
   "source": [
    "After that we can finish the cleaning phase and see the data frame looks now"
   ]
  },
  {
   "cell_type": "code",
   "execution_count": 7,
   "id": "833d83e1-af0a-47d5-aec1-c77cd03e92b8",
   "metadata": {},
   "outputs": [
    {
     "data": {
      "text/html": [
       "<div>\n",
       "<style scoped>\n",
       "    .dataframe tbody tr th:only-of-type {\n",
       "        vertical-align: middle;\n",
       "    }\n",
       "\n",
       "    .dataframe tbody tr th {\n",
       "        vertical-align: top;\n",
       "    }\n",
       "\n",
       "    .dataframe thead th {\n",
       "        text-align: right;\n",
       "    }\n",
       "</style>\n",
       "<table border=\"1\" class=\"dataframe\">\n",
       "  <thead>\n",
       "    <tr style=\"text-align: right;\">\n",
       "      <th></th>\n",
       "      <th>Title</th>\n",
       "      <th>Rank</th>\n",
       "      <th>Score</th>\n",
       "      <th>Scored_by</th>\n",
       "      <th>Favorites</th>\n",
       "    </tr>\n",
       "  </thead>\n",
       "  <tbody>\n",
       "    <tr>\n",
       "      <th>0</th>\n",
       "      <td>Berserk</td>\n",
       "      <td>1</td>\n",
       "      <td>9.39</td>\n",
       "      <td>201756</td>\n",
       "      <td>80308</td>\n",
       "    </tr>\n",
       "    <tr>\n",
       "      <th>1</th>\n",
       "      <td>JoJo no Kimyou na Bouken Part 7: Steel Ball Run</td>\n",
       "      <td>2</td>\n",
       "      <td>9.23</td>\n",
       "      <td>94427</td>\n",
       "      <td>27459</td>\n",
       "    </tr>\n",
       "    <tr>\n",
       "      <th>2</th>\n",
       "      <td>One Piece</td>\n",
       "      <td>3</td>\n",
       "      <td>9.15</td>\n",
       "      <td>249936</td>\n",
       "      <td>82310</td>\n",
       "    </tr>\n",
       "    <tr>\n",
       "      <th>4</th>\n",
       "      <td>Monster</td>\n",
       "      <td>5</td>\n",
       "      <td>9.10</td>\n",
       "      <td>57801</td>\n",
       "      <td>13049</td>\n",
       "    </tr>\n",
       "    <tr>\n",
       "      <th>5</th>\n",
       "      <td>Fullmetal Alchemist</td>\n",
       "      <td>6</td>\n",
       "      <td>9.08</td>\n",
       "      <td>130375</td>\n",
       "      <td>26753</td>\n",
       "    </tr>\n",
       "  </tbody>\n",
       "</table>\n",
       "</div>"
      ],
      "text/plain": [
       "                                             Title  Rank  Score  Scored_by  \\\n",
       "0                                          Berserk     1   9.39     201756   \n",
       "1  JoJo no Kimyou na Bouken Part 7: Steel Ball Run     2   9.23      94427   \n",
       "2                                        One Piece     3   9.15     249936   \n",
       "4                                          Monster     5   9.10      57801   \n",
       "5                              Fullmetal Alchemist     6   9.08     130375   \n",
       "\n",
       "   Favorites  \n",
       "0      80308  \n",
       "1      27459  \n",
       "2      82310  \n",
       "4      13049  \n",
       "5      26753  "
      ]
     },
     "execution_count": 7,
     "metadata": {},
     "output_type": "execute_result"
    }
   ],
   "source": [
    "df_manga = df_manga.drop(columns = ['is_duplicated'])\n",
    "df_manga.head()"
   ]
  },
  {
   "cell_type": "markdown",
   "id": "45b90650-30e0-4440-8186-7d527f16a741",
   "metadata": {},
   "source": [
    "## *K-Means* Clustering"
   ]
  },
  {
   "cell_type": "markdown",
   "id": "ead3ae87-ffe2-4d56-824f-6ba7617687a4",
   "metadata": {},
   "source": [
    "First step in clustering is we must decide the numbers of cluster based on the data we have. In this case we will use *elbow method* to determine the number of cluster in a data set. The *elbow method* is a heuristic that consists of plotting the explained variation as a function of the number of clusters, and picking the elbow of the curve as the number of clusters to use (https://en.wikipedia.org/wiki/Elbow_method_(clustering))"
   ]
  },
  {
   "cell_type": "code",
   "execution_count": 8,
   "id": "7d52c8f4-6d5b-411e-a20e-849ad8167e8f",
   "metadata": {},
   "outputs": [
    {
     "data": {
      "image/png": "[encoded data removed]",
      "text/plain": [
       "<Figure size 432x288 with 1 Axes>"
      ]
     },
     "metadata": {
      "needs_background": "light"
     },
     "output_type": "display_data"
    }
   ],
   "source": [
    "X = (df_manga[['Scored_by', 'Favorites', 'Score']])\n",
    "wcss = []\n",
    "for i in range(1, 11):\n",
    "    kmeans = KMeans(n_clusters=i, init='k-means++', max_iter=300, n_init=10, random_state=0)\n",
    "    kmeans.fit(X)\n",
    "    wcss.append(kmeans.inertia_)\n",
    "plt.plot(range(1, 11), wcss)\n",
    "plt.title('Elbow Method')\n",
    "plt.xlabel('Number of clusters')\n",
    "plt.ylabel('WCSS')\n",
    "plt.show()"
   ]
  },
  {
   "cell_type": "markdown",
   "id": "fc935bbf-90e7-4fe5-b734-1b9531219167",
   "metadata": {},
   "source": [
    "Because we use \"elbow\" or \"knee of a curve\", the plot showing us tha optimal number of cluster in our data set is 3 (between 2 and 4). So we will set the number of cluster in next step to 3"
   ]
  },
  {
   "cell_type": "code",
   "execution_count": 9,
   "id": "216c4e05-2d44-4881-8c72-73ad7f8eede9",
   "metadata": {},
   "outputs": [
    {
     "name": "stdout",
     "output_type": "stream",
     "text": [
      "                                                Title  cluster          cen_x  \\\n",
      "0                                             Berserk        1  187632.833333   \n",
      "1     JoJo no Kimyou na Bouken Part 7: Steel Ball Run        2   53998.693878   \n",
      "2                                           One Piece        1  187632.833333   \n",
      "4                                             Monster        2   53998.693878   \n",
      "5                                 Fullmetal Alchemist        1  187632.833333   \n",
      "...                                               ...      ...            ...   \n",
      "996                              Itsuwaribito◆Utsuho◆        0    6086.722488   \n",
      "997                                    Kakegurui Twin        0    6086.722488   \n",
      "998               Boku to Kimi no Taisetsu na Hanashi        0    6086.722488   \n",
      "999                                             Dokgo        0    6086.722488   \n",
      "1000                     Maiko-san Chi no Makanai-san        0    6086.722488   \n",
      "\n",
      "             cen_y  \n",
      "0     40360.416667  \n",
      "1      8677.836735  \n",
      "2     40360.416667  \n",
      "4      8677.836735  \n",
      "5     40360.416667  \n",
      "...            ...  \n",
      "996     689.333732  \n",
      "997     689.333732  \n",
      "998     689.333732  \n",
      "999     689.333732  \n",
      "1000    689.333732  \n",
      "\n",
      "[946 rows x 4 columns]\n"
     ]
    }
   ],
   "source": [
    "kmeans = KMeans(n_clusters=3, random_state=0)\n",
    "var = df_manga[['Scored_by', 'Favorites']]\n",
    "df_manga['cluster'] = kmeans.fit_predict(var)\n",
    "\n",
    "centroids = kmeans.cluster_centers_\n",
    "cen_x = [i[0] for i in centroids] \n",
    "cen_y = [i[1] for i in centroids]\n",
    "\n",
    "df_manga['cen_x'] = df_manga.cluster.map({0:cen_x[0], 1:cen_x[1], 2:cen_x[2]})\n",
    "df_manga['cen_y'] = df_manga.cluster.map({0:cen_y[0], 1:cen_y[1], 2:cen_y[2]})\n",
    "print(df_manga[['Title','cluster','cen_x','cen_y']])"
   ]
  },
  {
   "cell_type": "markdown",
   "id": "5e704ac2-437e-4542-99cc-426317e7e2c9",
   "metadata": {},
   "source": [
    "### Visualize"
   ]
  },
  {
   "cell_type": "markdown",
   "id": "7f0e6676-7708-42ce-9743-00c8f74fdab5",
   "metadata": {},
   "source": [
    "Now we have new columns in data set contains the information of cluster and centroids, next we visualize the result using plot. For better plot, we must differentiate the colour of each cluster"
   ]
  },
  {
   "cell_type": "code",
   "execution_count": 10,
   "id": "a89b9fbf-47a4-4d67-8e54-42d72dd2b43e",
   "metadata": {},
   "outputs": [
    {
     "data": {
      "text/plain": [
       "<matplotlib.collections.PathCollection at 0x1b0af751730>"
      ]
     },
     "execution_count": 10,
     "metadata": {},
     "output_type": "execute_result"
    },
    {
     "data": {
      "image/png": "[encoded data removed]",
      "text/plain": [
       "<Figure size 432x288 with 1 Axes>"
      ]
     },
     "metadata": {
      "needs_background": "light"
     },
     "output_type": "display_data"
    }
   ],
   "source": [
    "colors = ['#DF2020', '#81DF20', '#2095DF']\n",
    "df_manga['c'] = df_manga.cluster.map({0:colors[0], 1:colors[1], 2:colors[2]})\n",
    "plt.scatter(df_manga.Scored_by, df_manga.Favorites, c=df_manga.c, alpha = 0.6, s=10)"
   ]
  },
  {
   "cell_type": "markdown",
   "id": "fedcf4f3-698d-48e0-ae65-8df4c67a6a58",
   "metadata": {},
   "source": [
    "The plot showing 3 different colours for each cluster (red, blue and green). As we can see the \"green\" clusters contain information which manga should we read before sleep :)"
   ]
  },
  {
   "cell_type": "markdown",
   "id": "7f0eeef1-8fdd-4aac-9422-2a773a6d451d",
   "metadata": {},
   "source": [
    "Before we find which manga is in \"green\" cluster, we must check the accuracy of our result"
   ]
  },
  {
   "cell_type": "code",
   "execution_count": 11,
   "id": "7342beb3-5c58-4c02-8f9d-cfe689e1590c",
   "metadata": {},
   "outputs": [
    {
     "data": {
      "text/plain": [
       "0.7992844306666054"
      ]
     },
     "execution_count": 11,
     "metadata": {},
     "output_type": "execute_result"
    }
   ],
   "source": [
    "z = StandardScaler()\n",
    "trans = z.fit_transform(var)\n",
    "pred = kmeans.predict(var)\n",
    "silhouette_score(trans, pred)"
   ]
  },
  {
   "cell_type": "markdown",
   "id": "439cb53d-27d1-4b36-8d64-acbdb2f065d1",
   "metadata": {},
   "source": [
    "Based on the value of accuracy, we are confident to go to the next step"
   ]
  },
  {
   "cell_type": "markdown",
   "id": "d8b75b88-4752-45aa-bada-95ddb67bfeae",
   "metadata": {},
   "source": [
    "To get more information we will make a 3d visualization"
   ]
  },
  {
   "cell_type": "code",
   "execution_count": 12,
   "id": "dfeffd93-dbfd-4f96-ae9e-ffbbeb492e7b",
   "metadata": {},
   "outputs": [
    {
     "data": {
      "application/vnd.jupyter.widget-view+json": {
       "model_id": "5515ae1cb24e4e609e786cb2dc5bbcac",
       "version_major": 2,
       "version_minor": 0
      },
      "text/plain": [
       "Canvas(toolbar=Toolbar(toolitems=[('Home', 'Reset original view', 'home', 'home'), ('Back', 'Back to previous …"
      ]
     },
     "metadata": {},
     "output_type": "display_data"
    }
   ],
   "source": [
    "from mpl_toolkits.mplot3d import Axes3D\n",
    "%matplotlib widget\n",
    "fig = plt.figure(figsize=(26,6))\n",
    "ax = fig.add_subplot(131, projection='3d')\n",
    "ax.scatter(df_manga.Scored_by, df_manga.Favorites, df_manga.Score, c=df_manga.c, s=15)\n",
    "ax.set_xlabel('Scored_by')\n",
    "ax.set_ylabel('Favorites')\n",
    "ax.set_zlabel('Score')\n",
    "plt.show()"
   ]
  },
  {
   "cell_type": "markdown",
   "id": "fe375a4b-a524-40bf-87c2-adf01e0733ba",
   "metadata": {},
   "source": [
    "In the 3d graphs we can each cluster differentiate more clear and see that not all \"green\" cluster have a high `Score`"
   ]
  },
  {
   "cell_type": "markdown",
   "id": "7c5450d5-063d-40b1-9e3c-3fb3d51849f5",
   "metadata": {},
   "source": [
    "Next we create new data frame that contains new `cluster` features"
   ]
  },
  {
   "cell_type": "code",
   "execution_count": 13,
   "id": "9436522e-328d-43a7-aaae-027d7fc08eed",
   "metadata": {},
   "outputs": [
    {
     "name": "stdout",
     "output_type": "stream",
     "text": [
      "                                                Title  Rank  Score  Scored_by  \\\n",
      "0                                             Berserk     1   9.39     201756   \n",
      "1     JoJo no Kimyou na Bouken Part 7: Steel Ball Run     2   9.23      94427   \n",
      "2                                           One Piece     3   9.15     249936   \n",
      "4                                             Monster     5   9.10      57801   \n",
      "5                                 Fullmetal Alchemist     6   9.08     130375   \n",
      "...                                               ...   ...    ...        ...   \n",
      "996                              Itsuwaribito◆Utsuho◆   994   7.86       1623   \n",
      "997                                    Kakegurui Twin   970   7.86       1339   \n",
      "998               Boku to Kimi no Taisetsu na Hanashi  1000   7.85       4014   \n",
      "999                                             Dokgo  1022   7.85       2037   \n",
      "1000                     Maiko-san Chi no Makanai-san  1023   7.85        799   \n",
      "\n",
      "      Favorites  cluster  \n",
      "0         80308        1  \n",
      "1         27459        2  \n",
      "2         82310        1  \n",
      "4         13049        2  \n",
      "5         26753        1  \n",
      "...         ...      ...  \n",
      "996         150        0  \n",
      "997         115        0  \n",
      "998         208        0  \n",
      "999          86        0  \n",
      "1000         77        0  \n",
      "\n",
      "[946 rows x 6 columns]\n"
     ]
    }
   ],
   "source": [
    "to_frame = df_manga['cluster'].to_frame()\n",
    "df_clust = pd.concat([df_manga.Title,df_manga.Rank,df_manga.Score,df_manga.Scored_by,df_manga.Favorites,to_frame], axis=1)\n",
    "print(df_clust)"
   ]
  },
  {
   "cell_type": "markdown",
   "id": "220b824b-2490-4b81-966a-fad57f25e44f",
   "metadata": {},
   "source": [
    "## Conclusion"
   ]
  },
  {
   "cell_type": "markdown",
   "id": "187e891c-b5e9-4f49-a0e3-7cb5291fd155",
   "metadata": {},
   "source": [
    "This analysis shows us that *K-Means* clustering is a simple way to get a lot of information from a data set. But we must careful when choose the features to clustering, we must have an insight of the data set first before we go through. The *elbow method* is a simple way too for us to determine numbers of cluster in *K-Means* clustering, maybe in next proect we will use different method to determine numbers of cluster even different clustering method in python universe."
   ]
  },
  {
   "cell_type": "markdown",
   "id": "bfb43f1f-68ce-4aea-a53f-5658dd895aed",
   "metadata": {},
   "source": [
    "So there are the conclusion of this analysis, first we get the optimal numbers of cluster from data set is 3 based on *elbow method*, and here there are the length of the data for ech clusters"
   ]
  },
  {
   "cell_type": "code",
   "execution_count": 14,
   "id": "a99010bf-2a91-4a2b-8562-440a3c3898e4",
   "metadata": {},
   "outputs": [
    {
     "name": "stdout",
     "output_type": "stream",
     "text": [
      "cluster\n",
      "0    836\n",
      "1     12\n",
      "2     98\n",
      "Name: Title, dtype: int64\n"
     ]
    }
   ],
   "source": [
    "group_clust = df_clust.groupby(\"cluster\")[\"Title\"].count()\n",
    "print(group_clust)"
   ]
  },
  {
   "cell_type": "markdown",
   "id": "77ccb661-0a49-4fc9-8f63-27564af262a3",
   "metadata": {},
   "source": [
    "Because we want to know top priority manga to read we choose \"green\" cluster which is cluster 1, so we create new data frame that only show us the data from cluster 1"
   ]
  },
  {
   "cell_type": "code",
   "execution_count": 15,
   "id": "2c6bf2c1-82bf-4aeb-b337-a411dcf60db4",
   "metadata": {},
   "outputs": [
    {
     "name": "stdout",
     "output_type": "stream",
     "text": [
      "     No.                  Title  Rank  Score  Scored_by  Favorites  cluster\n",
      "0      1                Berserk     1   9.39     201756      80308        1\n",
      "2      2              One Piece     3   9.15     249936      82310        1\n",
      "5      3    Fullmetal Alchemist     6   9.08     130375      26753        1\n",
      "23     4          Solo Leveling    24   8.85     135251      25391        1\n",
      "39     5          One Punch-Man    41   8.73     158388      27068        1\n",
      "43     6             Death Note    44   8.72     185500      27864        1\n",
      "49     7           Chainsaw Man    50   8.68     151198      33419        1\n",
      "79     8     Shingeki no Kyojin    81   8.59     296689      60533        1\n",
      "112    9            Tokyo Ghoul   111   8.52     201733      35247        1\n",
      "290   10       Kimetsu no Yaiba   295   8.28     145839      19028        1\n",
      "294   11  Boku no Hero Academia   299   8.28     160282      26204        1\n",
      "583   12                 Naruto   583   8.06     234647      40200        1\n"
     ]
    }
   ],
   "source": [
    "df_manga_new = df_clust[df_clust['cluster'] == 1]\n",
    "df_manga_new.insert(0, 'No.', range(1, 1 + len(df_manga_new)))\n",
    "print(df_manga_new)"
   ]
  },
  {
   "cell_type": "markdown",
   "id": "55fdfc1d-5e43-4ad6-8065-1843507e2564",
   "metadata": {},
   "source": [
    "From that's data frame we can see 12 publishing and finished mangas in cluster 1 that top priority to read for. Enjoy!"
   ]
  }
 ],
 "metadata": {
  "kernelspec": {
   "display_name": "Python 3 (ipykernel)",
   "language": "python",
   "name": "python3"
  },
  "language_info": {
   "codemirror_mode": {
    "name": "ipython",
    "version": 3
   },
   "file_extension": ".py",
   "mimetype": "text/x-python",
   "name": "python",
   "nbconvert_exporter": "python",
   "pygments_lexer": "ipython3",
   "version": "3.9.6"
  }
 },
 "nbformat": 4,
 "nbformat_minor": 5
}
